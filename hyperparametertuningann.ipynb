{
 "cells": [
  {
   "cell_type": "code",
   "execution_count": 42,
   "id": "bf538f18",
   "metadata": {},
   "outputs": [
    {
     "name": "stdout",
     "output_type": "stream",
     "text": [
      "Requirement already satisfied: scikeras in m:\\ml_practice\\ml_project_first\\venv\\lib\\site-packages (0.13.0)\n",
      "Requirement already satisfied: keras>=3.2.0 in m:\\ml_practice\\ml_project_first\\venv\\lib\\site-packages (from scikeras) (3.9.2)\n",
      "Requirement already satisfied: scikit-learn>=1.4.2 in m:\\ml_practice\\ml_project_first\\venv\\lib\\site-packages (from scikeras) (1.5.2)\n",
      "Requirement already satisfied: absl-py in m:\\ml_practice\\ml_project_first\\venv\\lib\\site-packages (from keras>=3.2.0->scikeras) (2.2.2)\n",
      "Requirement already satisfied: numpy in m:\\ml_practice\\ml_project_first\\venv\\lib\\site-packages (from keras>=3.2.0->scikeras) (1.26.4)\n",
      "Requirement already satisfied: rich in m:\\ml_practice\\ml_project_first\\venv\\lib\\site-packages (from keras>=3.2.0->scikeras) (14.0.0)\n",
      "Requirement already satisfied: namex in m:\\ml_practice\\ml_project_first\\venv\\lib\\site-packages (from keras>=3.2.0->scikeras) (0.0.9)\n",
      "Requirement already satisfied: h5py in m:\\ml_practice\\ml_project_first\\venv\\lib\\site-packages (from keras>=3.2.0->scikeras) (3.13.0)\n",
      "Requirement already satisfied: optree in m:\\ml_practice\\ml_project_first\\venv\\lib\\site-packages (from keras>=3.2.0->scikeras) (0.15.0)\n",
      "Requirement already satisfied: ml-dtypes in m:\\ml_practice\\ml_project_first\\venv\\lib\\site-packages (from keras>=3.2.0->scikeras) (0.5.1)\n",
      "Requirement already satisfied: packaging in c:\\users\\moham\\appdata\\roaming\\python\\python312\\site-packages (from keras>=3.2.0->scikeras) (24.2)\n",
      "Requirement already satisfied: scipy>=1.6.0 in m:\\ml_practice\\ml_project_first\\venv\\lib\\site-packages (from scikit-learn>=1.4.2->scikeras) (1.14.1)\n",
      "Requirement already satisfied: joblib>=1.2.0 in m:\\ml_practice\\ml_project_first\\venv\\lib\\site-packages (from scikit-learn>=1.4.2->scikeras) (1.4.2)\n",
      "Requirement already satisfied: threadpoolctl>=3.1.0 in m:\\ml_practice\\ml_project_first\\venv\\lib\\site-packages (from scikit-learn>=1.4.2->scikeras) (3.5.0)\n",
      "Requirement already satisfied: typing-extensions>=4.5.0 in m:\\ml_practice\\ml_project_first\\venv\\lib\\site-packages (from optree->keras>=3.2.0->scikeras) (4.13.2)\n",
      "Requirement already satisfied: markdown-it-py>=2.2.0 in m:\\ml_practice\\ml_project_first\\venv\\lib\\site-packages (from rich->keras>=3.2.0->scikeras) (3.0.0)\n",
      "Requirement already satisfied: pygments<3.0.0,>=2.13.0 in c:\\users\\moham\\appdata\\roaming\\python\\python312\\site-packages (from rich->keras>=3.2.0->scikeras) (2.18.0)\n",
      "Requirement already satisfied: mdurl~=0.1 in m:\\ml_practice\\ml_project_first\\venv\\lib\\site-packages (from markdown-it-py>=2.2.0->rich->keras>=3.2.0->scikeras) (0.1.2)\n",
      "Note: you may need to restart the kernel to use updated packages.\n"
     ]
    }
   ],
   "source": [
    "%pip install scikeras"
   ]
  },
  {
   "cell_type": "code",
   "execution_count": 43,
   "id": "055a75c8",
   "metadata": {},
   "outputs": [],
   "source": [
    "import pandas as pd\n",
    "import tensorflow as tf\n",
    "from sklearn.model_selection import train_test_split, GridSearchCV\n",
    "from sklearn.preprocessing import StandardScaler, LabelEncoder, OneHotEncoder\n",
    "from sklearn.pipeline import Pipeline\n",
    "from scikeras.wrappers import KerasClassifier  # Updated import\n",
    "from tensorflow.keras.models import Sequential\n",
    "from tensorflow.keras.layers import Dense\n",
    "from tensorflow.keras.callbacks import EarlyStopping\n",
    "import pickle\n"
   ]
  },
  {
   "cell_type": "code",
   "execution_count": 37,
   "id": "ac1f5403",
   "metadata": {},
   "outputs": [],
   "source": [
    "# Load data file\n",
    "data = pd.read_csv('Churn_Modelling.csv')\n",
    "\n",
    "# Preprocess the data\n",
    "data = data.drop(['RowNumber', 'CustomerId', 'Surname'], axis=1)\n",
    "data.head()\n",
    "\n",
    "# Encode Categorical variables\n",
    "label_endoder_gender = LabelEncoder()\n",
    "data['Gender']= label_endoder_gender.fit_transform(data['Gender'])\n",
    "\n",
    "# One-hot Encode 'Geography'\n",
    "from sklearn.preprocessing import OneHotEncoder\n",
    "onehot_encoder_geo = OneHotEncoder(handle_unknown = 'ignore')\n",
    "geo_encoded = onehot_encoder_geo.fit_transform(data[['Geography']]).toarray()\n",
    "geo_encoded_df = pd.DataFrame(geo_encoded,columns=onehot_encoder_geo.get_feature_names_out(['Geography']))\n",
    "geo_encoded_df\n",
    "\n",
    "# Combine one-hot encoded columns with original data\n",
    "data=pd.concat([data.drop('Geography', axis=1), geo_encoded_df], axis=1)\n",
    "data.head()\n",
    "\n",
    "# Split the data into features and target\n",
    "\n",
    "X = data.drop('Exited', axis=1)\n",
    "y = data['Exited']\n",
    "\n",
    "# Split the data into training and testing set\n",
    "X_train, X_test, y_train, y_test = train_test_split(X,y, test_size=0.2, random_state=42)\n",
    "\n",
    "# Scale these features\n",
    "scaler = StandardScaler()\n",
    "X_train = scaler.fit_transform(X_train)\n",
    "X_test = scaler.transform(X_test)\n",
    "\n",
    "# Save the encoders and Scalers in Pickle file, because we have to use it later\n",
    "with open('label_endoder_gender.pkl', 'wb')as file:\n",
    "    pickle.dump(label_endoder_gender,file)\n",
    "    \n",
    "with open('onehot_encoder_geo.pkl', 'wb')as file:\n",
    "    pickle.dump(onehot_encoder_geo,file)\n",
    "    \n",
    "with open('scaler.pkl', 'wb')as file:\n",
    "    pickle.dump(scaler,file)\n",
    "    \n",
    "    "
   ]
  },
  {
   "cell_type": "code",
   "execution_count": 38,
   "id": "544824d9",
   "metadata": {},
   "outputs": [],
   "source": [
    "# Define a function to create the model and try different parameters(KerasClassifier)\n",
    "\n",
    "def create_model(neurons=32, layers=1):\n",
    "    model = Sequential()\n",
    "    model.add(Dense(neurons, activation='relu', input_shape=(X_train.shape[1],)))\n",
    "    \n",
    "    # Add hidden layers (note: fixed your hidden layer neurons to match first layer)\n",
    "    for _ in range(layers-1):\n",
    "        model.add(Dense(neurons, activation='relu'))  # Changed from 1 to neurons\n",
    "    \n",
    "    model.add(Dense(1, activation='sigmoid'))\n",
    "    model.compile(optimizer='adam', loss='binary_crossentropy', metrics=['accuracy'])\n",
    "    \n",
    "    return model\n"
   ]
  },
  {
   "cell_type": "code",
   "execution_count": 39,
   "id": "ca1ded9a",
   "metadata": {},
   "outputs": [],
   "source": [
    "# 2. Create KerasClassifier with model (not build_fn)\n",
    "model = KerasClassifier(\n",
    "    model=create_model,  # Note: 'model' instead of 'build_fn'\n",
    "    neurons=32,         # Default values must match create_model defaults\n",
    "    layers=1,           # Default values must match create_model defaults\n",
    "    optimizer='adam',   # Added optimizer here\n",
    "    epochs=50,\n",
    "    batch_size=10,\n",
    "    verbose=0\n",
    ")\n"
   ]
  },
  {
   "cell_type": "code",
   "execution_count": 40,
   "id": "058ee6c5",
   "metadata": {},
   "outputs": [],
   "source": [
    "# 3. Define param_grid (now properly mapped)\n",
    "param_grid = {\n",
    "    'model__neurons': [16, 32, 64, 128],  # Note the model__ prefix\n",
    "    'model__layers': [1, 2],               # Note the model__ prefix\n",
    "    'epochs': [50, 100]\n",
    "}\n"
   ]
  },
  {
   "cell_type": "code",
   "execution_count": null,
   "id": "33d0f303",
   "metadata": {},
   "outputs": [
    {
     "name": "stdout",
     "output_type": "stream",
     "text": [
      "Fitting 3 folds for each of 16 candidates, totalling 48 fits\n"
     ]
    },
    {
     "name": "stderr",
     "output_type": "stream",
     "text": [
      "m:\\ML_Practice\\ML_Project_First\\venv\\Lib\\site-packages\\keras\\src\\layers\\core\\dense.py:87: UserWarning: Do not pass an `input_shape`/`input_dim` argument to a layer. When using Sequential models, prefer using an `Input(shape)` object as the first layer in the model instead.\n",
      "  super().__init__(activity_regularizer=activity_regularizer, **kwargs)\n"
     ]
    },
    {
     "name": "stdout",
     "output_type": "stream",
     "text": [
      "Best: 0.858000 using {'epochs': 50, 'model__layers': 1, 'model__neurons': 16}\n"
     ]
    }
   ],
   "source": [
    "# 4. Perform Grid Search\n",
    "grid = GridSearchCV(\n",
    "    estimator=model,\n",
    "    param_grid=param_grid,\n",
    "    n_jobs=-1,\n",
    "    cv=3,\n",
    "    verbose=1\n",
    "    verbose=1\n",
    "    verbose=1\n",
    ")\n",
    "grid_result = grid.fit(X_train, y_train)\n",
    "\n",
    "# Print results\n",
    "print(\"Best: %f using %s\" % (grid_result.best_score_, grid_result.best_params_))"
   ]
  }
 ],
 "metadata": {
  "kernelspec": {
   "display_name": "Python 3",
   "language": "python",
   "name": "python3"
  },
  "language_info": {
   "codemirror_mode": {
    "name": "ipython",
    "version": 3
   },
   "file_extension": ".py",
   "mimetype": "text/x-python",
   "name": "python",
   "nbconvert_exporter": "python",
   "pygments_lexer": "ipython3",
   "version": "3.12.0"
  }
 },
 "nbformat": 4,
 "nbformat_minor": 5
}
